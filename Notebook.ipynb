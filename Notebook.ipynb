{
 "cells": [
  {
   "cell_type": "markdown",
   "metadata": {},
   "source": [
    "# Bitcoin Analysis"
   ]
  },
  {
   "cell_type": "markdown",
   "metadata": {},
   "source": [
    "#### From 2014-09-17 To 2022-11-15\t"
   ]
  },
  {
   "cell_type": "code",
   "execution_count": 241,
   "metadata": {},
   "outputs": [],
   "source": [
    "import pandas as pd\n",
    "import matplotlib.pyplot as plt\n",
    "import matplotlib.patches as mp\n",
    "import seaborn as sns\n",
    "import numpy as np\n",
    "import datetime"
   ]
  },
  {
   "cell_type": "markdown",
   "metadata": {},
   "source": [
    "### 1. Import Dataframes"
   ]
  },
  {
   "cell_type": "markdown",
   "metadata": {},
   "source": [
    "##### Data Can be found at the following links:\n",
    "###### Bitcoin: https://finance.yahoo.com/quote/BTC-USD/history?p=BTC-USD\n",
    "###### Ethereum: https://finance.yahoo.com/quote/ETH-USD/history?p=ETH-USD\n",
    "###### NASDAQ: https://finance.yahoo.com/quote/%5EIXIC/history?p=%5EIXIC\n",
    "###### Tether: https://finance.yahoo.com/quote/USDT-USD/history?p=USDT-USD"
   ]
  },
  {
   "cell_type": "markdown",
   "metadata": {},
   "source": [
    "##### Dates Columns Needed To Be Changed From An Object To DateTime Format"
   ]
  },
  {
   "cell_type": "code",
   "execution_count": 242,
   "metadata": {},
   "outputs": [],
   "source": [
    "# Bitcoin imported and Dates changed to datetime format \n",
    "btc = pd.read_csv('BTC-USD.csv')\n",
    "btc.Date = btc['Date'].apply(pd.to_datetime)"
   ]
  },
  {
   "cell_type": "code",
   "execution_count": 243,
   "metadata": {},
   "outputs": [],
   "source": [
    "# Ethereum imported and Dates changed to datetime format \n",
    "eth = pd.read_csv('ETH-USD.csv')\n",
    "eth.Date = eth['Date'].apply(pd.to_datetime)"
   ]
  },
  {
   "cell_type": "code",
   "execution_count": 244,
   "metadata": {},
   "outputs": [],
   "source": [
    "#NASDAQ imported and Dates changed to datetime format.\n",
    "nasdaq = pd.read_csv('NASDAQ.csv')\n",
    "nasdaq.Date = btc['Date'].apply(pd.to_datetime)"
   ]
  },
  {
   "cell_type": "code",
   "execution_count": 245,
   "metadata": {},
   "outputs": [],
   "source": [
    "#Tether imported and Dates changed to datetime format.\n",
    "tether = pd.read_csv('USDT-USD.csv')\n",
    "tether.Date = btc['Date'].apply(pd.to_datetime)"
   ]
  },
  {
   "cell_type": "markdown",
   "metadata": {},
   "source": [
    "### 2. Sample The Data"
   ]
  },
  {
   "cell_type": "markdown",
   "metadata": {},
   "source": [
    "##### All Datasets Have The Date, Opening and Closing Prices, High and Low Prices, Adj Close, and Volume Traded"
   ]
  },
  {
   "cell_type": "markdown",
   "metadata": {},
   "source": [
    "##### Adj close should be the same as close for cryptocurrencies because crypto is not limited to trading times like stocks."
   ]
  },
  {
   "cell_type": "code",
   "execution_count": 246,
   "metadata": {},
   "outputs": [
    {
     "data": {
      "text/html": [
       "<div>\n",
       "<style scoped>\n",
       "    .dataframe tbody tr th:only-of-type {\n",
       "        vertical-align: middle;\n",
       "    }\n",
       "\n",
       "    .dataframe tbody tr th {\n",
       "        vertical-align: top;\n",
       "    }\n",
       "\n",
       "    .dataframe thead th {\n",
       "        text-align: right;\n",
       "    }\n",
       "</style>\n",
       "<table border=\"1\" class=\"dataframe\">\n",
       "  <thead>\n",
       "    <tr style=\"text-align: right;\">\n",
       "      <th></th>\n",
       "      <th>Date</th>\n",
       "      <th>Open</th>\n",
       "      <th>High</th>\n",
       "      <th>Low</th>\n",
       "      <th>Close</th>\n",
       "      <th>Adj Close</th>\n",
       "      <th>Volume</th>\n",
       "    </tr>\n",
       "  </thead>\n",
       "  <tbody>\n",
       "    <tr>\n",
       "      <th>0</th>\n",
       "      <td>2014-09-17</td>\n",
       "      <td>465.864014</td>\n",
       "      <td>468.174011</td>\n",
       "      <td>452.421997</td>\n",
       "      <td>457.334015</td>\n",
       "      <td>457.334015</td>\n",
       "      <td>21056800</td>\n",
       "    </tr>\n",
       "    <tr>\n",
       "      <th>1</th>\n",
       "      <td>2014-09-18</td>\n",
       "      <td>456.859985</td>\n",
       "      <td>456.859985</td>\n",
       "      <td>413.104004</td>\n",
       "      <td>424.440002</td>\n",
       "      <td>424.440002</td>\n",
       "      <td>34483200</td>\n",
       "    </tr>\n",
       "    <tr>\n",
       "      <th>2</th>\n",
       "      <td>2014-09-19</td>\n",
       "      <td>424.102997</td>\n",
       "      <td>427.834991</td>\n",
       "      <td>384.532013</td>\n",
       "      <td>394.795990</td>\n",
       "      <td>394.795990</td>\n",
       "      <td>37919700</td>\n",
       "    </tr>\n",
       "    <tr>\n",
       "      <th>3</th>\n",
       "      <td>2014-09-20</td>\n",
       "      <td>394.673004</td>\n",
       "      <td>423.295990</td>\n",
       "      <td>389.882996</td>\n",
       "      <td>408.903992</td>\n",
       "      <td>408.903992</td>\n",
       "      <td>36863600</td>\n",
       "    </tr>\n",
       "    <tr>\n",
       "      <th>4</th>\n",
       "      <td>2014-09-21</td>\n",
       "      <td>408.084991</td>\n",
       "      <td>412.425995</td>\n",
       "      <td>393.181000</td>\n",
       "      <td>398.821014</td>\n",
       "      <td>398.821014</td>\n",
       "      <td>26580100</td>\n",
       "    </tr>\n",
       "  </tbody>\n",
       "</table>\n",
       "</div>"
      ],
      "text/plain": [
       "        Date        Open        High         Low       Close   Adj Close  \\\n",
       "0 2014-09-17  465.864014  468.174011  452.421997  457.334015  457.334015   \n",
       "1 2014-09-18  456.859985  456.859985  413.104004  424.440002  424.440002   \n",
       "2 2014-09-19  424.102997  427.834991  384.532013  394.795990  394.795990   \n",
       "3 2014-09-20  394.673004  423.295990  389.882996  408.903992  408.903992   \n",
       "4 2014-09-21  408.084991  412.425995  393.181000  398.821014  398.821014   \n",
       "\n",
       "     Volume  \n",
       "0  21056800  \n",
       "1  34483200  \n",
       "2  37919700  \n",
       "3  36863600  \n",
       "4  26580100  "
      ]
     },
     "execution_count": 246,
     "metadata": {},
     "output_type": "execute_result"
    }
   ],
   "source": [
    "btc.head()"
   ]
  },
  {
   "cell_type": "code",
   "execution_count": 247,
   "metadata": {},
   "outputs": [
    {
     "data": {
      "text/html": [
       "<div>\n",
       "<style scoped>\n",
       "    .dataframe tbody tr th:only-of-type {\n",
       "        vertical-align: middle;\n",
       "    }\n",
       "\n",
       "    .dataframe tbody tr th {\n",
       "        vertical-align: top;\n",
       "    }\n",
       "\n",
       "    .dataframe thead th {\n",
       "        text-align: right;\n",
       "    }\n",
       "</style>\n",
       "<table border=\"1\" class=\"dataframe\">\n",
       "  <thead>\n",
       "    <tr style=\"text-align: right;\">\n",
       "      <th></th>\n",
       "      <th>Date</th>\n",
       "      <th>Open</th>\n",
       "      <th>High</th>\n",
       "      <th>Low</th>\n",
       "      <th>Close</th>\n",
       "      <th>Adj Close</th>\n",
       "      <th>Volume</th>\n",
       "    </tr>\n",
       "  </thead>\n",
       "  <tbody>\n",
       "    <tr>\n",
       "      <th>0</th>\n",
       "      <td>2017-11-09</td>\n",
       "      <td>308.644989</td>\n",
       "      <td>329.451996</td>\n",
       "      <td>307.056000</td>\n",
       "      <td>320.884003</td>\n",
       "      <td>320.884003</td>\n",
       "      <td>893249984</td>\n",
       "    </tr>\n",
       "    <tr>\n",
       "      <th>1</th>\n",
       "      <td>2017-11-10</td>\n",
       "      <td>320.670990</td>\n",
       "      <td>324.717987</td>\n",
       "      <td>294.541992</td>\n",
       "      <td>299.252991</td>\n",
       "      <td>299.252991</td>\n",
       "      <td>885985984</td>\n",
       "    </tr>\n",
       "    <tr>\n",
       "      <th>2</th>\n",
       "      <td>2017-11-11</td>\n",
       "      <td>298.585999</td>\n",
       "      <td>319.453003</td>\n",
       "      <td>298.191986</td>\n",
       "      <td>314.681000</td>\n",
       "      <td>314.681000</td>\n",
       "      <td>842300992</td>\n",
       "    </tr>\n",
       "    <tr>\n",
       "      <th>3</th>\n",
       "      <td>2017-11-12</td>\n",
       "      <td>314.690002</td>\n",
       "      <td>319.153015</td>\n",
       "      <td>298.513000</td>\n",
       "      <td>307.907990</td>\n",
       "      <td>307.907990</td>\n",
       "      <td>1613479936</td>\n",
       "    </tr>\n",
       "    <tr>\n",
       "      <th>4</th>\n",
       "      <td>2017-11-13</td>\n",
       "      <td>307.024994</td>\n",
       "      <td>328.415009</td>\n",
       "      <td>307.024994</td>\n",
       "      <td>316.716003</td>\n",
       "      <td>316.716003</td>\n",
       "      <td>1041889984</td>\n",
       "    </tr>\n",
       "  </tbody>\n",
       "</table>\n",
       "</div>"
      ],
      "text/plain": [
       "        Date        Open        High         Low       Close   Adj Close  \\\n",
       "0 2017-11-09  308.644989  329.451996  307.056000  320.884003  320.884003   \n",
       "1 2017-11-10  320.670990  324.717987  294.541992  299.252991  299.252991   \n",
       "2 2017-11-11  298.585999  319.453003  298.191986  314.681000  314.681000   \n",
       "3 2017-11-12  314.690002  319.153015  298.513000  307.907990  307.907990   \n",
       "4 2017-11-13  307.024994  328.415009  307.024994  316.716003  316.716003   \n",
       "\n",
       "       Volume  \n",
       "0   893249984  \n",
       "1   885985984  \n",
       "2   842300992  \n",
       "3  1613479936  \n",
       "4  1041889984  "
      ]
     },
     "execution_count": 247,
     "metadata": {},
     "output_type": "execute_result"
    }
   ],
   "source": [
    "eth.head()"
   ]
  },
  {
   "cell_type": "code",
   "execution_count": 248,
   "metadata": {},
   "outputs": [
    {
     "data": {
      "text/html": [
       "<div>\n",
       "<style scoped>\n",
       "    .dataframe tbody tr th:only-of-type {\n",
       "        vertical-align: middle;\n",
       "    }\n",
       "\n",
       "    .dataframe tbody tr th {\n",
       "        vertical-align: top;\n",
       "    }\n",
       "\n",
       "    .dataframe thead th {\n",
       "        text-align: right;\n",
       "    }\n",
       "</style>\n",
       "<table border=\"1\" class=\"dataframe\">\n",
       "  <thead>\n",
       "    <tr style=\"text-align: right;\">\n",
       "      <th></th>\n",
       "      <th>Date</th>\n",
       "      <th>Open</th>\n",
       "      <th>High</th>\n",
       "      <th>Low</th>\n",
       "      <th>Close</th>\n",
       "      <th>Adj Close</th>\n",
       "      <th>Volume</th>\n",
       "    </tr>\n",
       "  </thead>\n",
       "  <tbody>\n",
       "    <tr>\n",
       "      <th>0</th>\n",
       "      <td>2014-09-17</td>\n",
       "      <td>4553.959961</td>\n",
       "      <td>4582.399902</td>\n",
       "      <td>4539.359863</td>\n",
       "      <td>4562.189941</td>\n",
       "      <td>4562.189941</td>\n",
       "      <td>1796710000</td>\n",
       "    </tr>\n",
       "    <tr>\n",
       "      <th>1</th>\n",
       "      <td>2014-09-18</td>\n",
       "      <td>4575.740234</td>\n",
       "      <td>4593.979980</td>\n",
       "      <td>4572.620117</td>\n",
       "      <td>4593.430176</td>\n",
       "      <td>4593.430176</td>\n",
       "      <td>1774840000</td>\n",
       "    </tr>\n",
       "    <tr>\n",
       "      <th>2</th>\n",
       "      <td>2014-09-19</td>\n",
       "      <td>4606.129883</td>\n",
       "      <td>4610.569824</td>\n",
       "      <td>4563.439941</td>\n",
       "      <td>4579.790039</td>\n",
       "      <td>4579.790039</td>\n",
       "      <td>3178490000</td>\n",
       "    </tr>\n",
       "    <tr>\n",
       "      <th>3</th>\n",
       "      <td>2014-09-20</td>\n",
       "      <td>4568.450195</td>\n",
       "      <td>4568.870117</td>\n",
       "      <td>4513.120117</td>\n",
       "      <td>4527.689941</td>\n",
       "      <td>4527.689941</td>\n",
       "      <td>1881520000</td>\n",
       "    </tr>\n",
       "    <tr>\n",
       "      <th>4</th>\n",
       "      <td>2014-09-21</td>\n",
       "      <td>4511.319824</td>\n",
       "      <td>4536.029785</td>\n",
       "      <td>4508.419922</td>\n",
       "      <td>4508.689941</td>\n",
       "      <td>4508.689941</td>\n",
       "      <td>1847730000</td>\n",
       "    </tr>\n",
       "  </tbody>\n",
       "</table>\n",
       "</div>"
      ],
      "text/plain": [
       "        Date         Open         High          Low        Close    Adj Close  \\\n",
       "0 2014-09-17  4553.959961  4582.399902  4539.359863  4562.189941  4562.189941   \n",
       "1 2014-09-18  4575.740234  4593.979980  4572.620117  4593.430176  4593.430176   \n",
       "2 2014-09-19  4606.129883  4610.569824  4563.439941  4579.790039  4579.790039   \n",
       "3 2014-09-20  4568.450195  4568.870117  4513.120117  4527.689941  4527.689941   \n",
       "4 2014-09-21  4511.319824  4536.029785  4508.419922  4508.689941  4508.689941   \n",
       "\n",
       "       Volume  \n",
       "0  1796710000  \n",
       "1  1774840000  \n",
       "2  3178490000  \n",
       "3  1881520000  \n",
       "4  1847730000  "
      ]
     },
     "execution_count": 248,
     "metadata": {},
     "output_type": "execute_result"
    }
   ],
   "source": [
    "nasdaq.head()"
   ]
  },
  {
   "cell_type": "code",
   "execution_count": 249,
   "metadata": {},
   "outputs": [
    {
     "data": {
      "text/html": [
       "<div>\n",
       "<style scoped>\n",
       "    .dataframe tbody tr th:only-of-type {\n",
       "        vertical-align: middle;\n",
       "    }\n",
       "\n",
       "    .dataframe tbody tr th {\n",
       "        vertical-align: top;\n",
       "    }\n",
       "\n",
       "    .dataframe thead th {\n",
       "        text-align: right;\n",
       "    }\n",
       "</style>\n",
       "<table border=\"1\" class=\"dataframe\">\n",
       "  <thead>\n",
       "    <tr style=\"text-align: right;\">\n",
       "      <th></th>\n",
       "      <th>Date</th>\n",
       "      <th>Open</th>\n",
       "      <th>High</th>\n",
       "      <th>Low</th>\n",
       "      <th>Close</th>\n",
       "      <th>Adj Close</th>\n",
       "      <th>Volume</th>\n",
       "    </tr>\n",
       "  </thead>\n",
       "  <tbody>\n",
       "    <tr>\n",
       "      <th>0</th>\n",
       "      <td>2014-09-17</td>\n",
       "      <td>1.01087</td>\n",
       "      <td>1.01327</td>\n",
       "      <td>0.996515</td>\n",
       "      <td>1.00818</td>\n",
       "      <td>1.00818</td>\n",
       "      <td>358188000</td>\n",
       "    </tr>\n",
       "    <tr>\n",
       "      <th>1</th>\n",
       "      <td>2014-09-18</td>\n",
       "      <td>1.00650</td>\n",
       "      <td>1.02423</td>\n",
       "      <td>0.995486</td>\n",
       "      <td>1.00601</td>\n",
       "      <td>1.00601</td>\n",
       "      <td>756446016</td>\n",
       "    </tr>\n",
       "    <tr>\n",
       "      <th>2</th>\n",
       "      <td>2014-09-19</td>\n",
       "      <td>1.00598</td>\n",
       "      <td>1.02621</td>\n",
       "      <td>0.995799</td>\n",
       "      <td>1.00899</td>\n",
       "      <td>1.00899</td>\n",
       "      <td>746227968</td>\n",
       "    </tr>\n",
       "    <tr>\n",
       "      <th>3</th>\n",
       "      <td>2014-09-20</td>\n",
       "      <td>1.00602</td>\n",
       "      <td>1.10591</td>\n",
       "      <td>0.967601</td>\n",
       "      <td>1.01247</td>\n",
       "      <td>1.01247</td>\n",
       "      <td>1466060032</td>\n",
       "    </tr>\n",
       "    <tr>\n",
       "      <th>4</th>\n",
       "      <td>2014-09-21</td>\n",
       "      <td>1.00448</td>\n",
       "      <td>1.02929</td>\n",
       "      <td>0.975103</td>\n",
       "      <td>1.00935</td>\n",
       "      <td>1.00935</td>\n",
       "      <td>767884032</td>\n",
       "    </tr>\n",
       "  </tbody>\n",
       "</table>\n",
       "</div>"
      ],
      "text/plain": [
       "        Date     Open     High       Low    Close  Adj Close      Volume\n",
       "0 2014-09-17  1.01087  1.01327  0.996515  1.00818    1.00818   358188000\n",
       "1 2014-09-18  1.00650  1.02423  0.995486  1.00601    1.00601   756446016\n",
       "2 2014-09-19  1.00598  1.02621  0.995799  1.00899    1.00899   746227968\n",
       "3 2014-09-20  1.00602  1.10591  0.967601  1.01247    1.01247  1466060032\n",
       "4 2014-09-21  1.00448  1.02929  0.975103  1.00935    1.00935   767884032"
      ]
     },
     "execution_count": 249,
     "metadata": {},
     "output_type": "execute_result"
    }
   ],
   "source": [
    "tether.head()"
   ]
  },
  {
   "cell_type": "markdown",
   "metadata": {},
   "source": [
    "### 3A. Why Bitcoin?"
   ]
  },
  {
   "cell_type": "markdown",
   "metadata": {},
   "source": [
    "#### The Top 3 Crypto Currencies based on market cap are Bitcoin, Ethereum, and Tether. I chose to analyse Bitcoin over the other three because Bitcoin is known to be the biggest Crypto Currency and most of the other Currencies tend to follow the trends of Bitcoin. This section will show a few graphs to show the dramatic difference between Bitcoin and the other Top Crypto Currencies. I also should mention that Ethereum and Tether are both realitively new crypto currencies and Tether is designed to be worth the same as the US Dollar."
   ]
  },
  {
   "cell_type": "markdown",
   "metadata": {},
   "source": [
    "### 3B. What is Bitcoin?"
   ]
  },
  {
   "cell_type": "markdown",
   "metadata": {},
   "source": [
    "##### Bitcoin is the most widely used cryptocurrency that aims to provide investors with a currency that is seperate from national currencies, banks, and countries by using a blockchain."
   ]
  },
  {
   "cell_type": "markdown",
   "metadata": {},
   "source": [
    "### 4. Inital Graphs"
   ]
  },
  {
   "cell_type": "markdown",
   "metadata": {},
   "source": [
    "### General BTC Graph"
   ]
  },
  {
   "cell_type": "code",
   "execution_count": 251,
   "metadata": {},
   "outputs": [
    {
     "data": {
      "image/png": "[encoded data removed]",
      "text/plain": [
       "<Figure size 640x480 with 1 Axes>"
      ]
     },
     "metadata": {},
     "output_type": "display_data"
    }
   ],
   "source": [
    "sns.lineplot(x = btc.Date, y = btc.High, color = \"red\")\n",
    "plt.title('BTC Highs Over The Years')\n",
    "plt.xlabel('Year')\n",
    "plt.ylabel('USD')\n",
    "plt.show()"
   ]
  },
  {
   "cell_type": "markdown",
   "metadata": {},
   "source": [
    "### ETH"
   ]
  },
  {
   "cell_type": "code",
   "execution_count": 252,
   "metadata": {},
   "outputs": [
    {
     "data": {
      "image/png": "[encoded data removed]",
      "text/plain": [
       "<Figure size 640x480 with 1 Axes>"
      ]
     },
     "metadata": {},
     "output_type": "display_data"
    }
   ],
   "source": [
    "sns.lineplot(x = eth.Date, y = eth.High, color = \"blue\")\n",
    "plt.title('ETH Highs Over The Years')\n",
    "plt.xlabel('Year')\n",
    "plt.ylabel('USD')\n",
    "plt.show()"
   ]
  },
  {
   "cell_type": "markdown",
   "metadata": {},
   "source": [
    "#### I included this graph to show that both Bitcoin and Ethereum peaked about the same times."
   ]
  },
  {
   "cell_type": "markdown",
   "metadata": {},
   "source": [
    "### BTC Compared To ETH"
   ]
  },
  {
   "cell_type": "code",
   "execution_count": 253,
   "metadata": {},
   "outputs": [
    {
     "data": {
      "image/png": "[encoded data removed]",
      "text/plain": [
       "<Figure size 640x480 with 1 Axes>"
      ]
     },
     "metadata": {},
     "output_type": "display_data"
    }
   ],
   "source": [
    "sns.lineplot(x = btc.Date, y = btc.High, color = \"red\", label = 'BTC')\n",
    "sns.lineplot(x = eth.Date, y = eth.High, color = \"blue\", label = 'ETH')\n",
    "plt.title('BTC Highs Vs. ETH Highs')\n",
    "plt.xlabel('Year')\n",
    "plt.ylabel('USD')\n",
    "plt.show()"
   ]
  },
  {
   "cell_type": "markdown",
   "metadata": {},
   "source": [
    "### BTC High VS Low Averaged Based On Year"
   ]
  },
  {
   "cell_type": "code",
   "execution_count": 254,
   "metadata": {},
   "outputs": [
    {
     "data": {
      "image/png": "[encoded data removed]",
      "text/plain": [
       "<Figure size 640x480 with 1 Axes>"
      ]
     },
     "metadata": {},
     "output_type": "display_data"
    }
   ],
   "source": [
    "sns.barplot(x = btc.Date.dt.year, y = btc.High, color = \"Red\", label = 'High', errorbar=None)\n",
    "sns.barplot(x = btc.Date.dt.year, y = btc.Low, color = \"Blue\", label = 'Low', errorbar=None)\n",
    "plt.title('BTC High Vs Low Yearly Averages')\n",
    "plt.ylabel('USD')\n",
    "plt.xlabel('Year')\n",
    "plt.legend()\n",
    "plt.show()"
   ]
  },
  {
   "cell_type": "markdown",
   "metadata": {},
   "source": [
    "### 5. How Bitcoin Compares To The NASDAQ Composite"
   ]
  },
  {
   "cell_type": "markdown",
   "metadata": {},
   "source": [
    "#### I want to compare the two's preformance because the NASDAQ Composite should give us an idea of Bictcoin against the stock market."
   ]
  },
  {
   "cell_type": "markdown",
   "metadata": {},
   "source": [
    "#### Unfortunatly the NASDAQ Data I have only goes until mid 2020, So I will compare the data that I do have up until 2020"
   ]
  },
  {
   "cell_type": "code",
   "execution_count": 255,
   "metadata": {},
   "outputs": [],
   "source": [
    "new_btc = btc[btc['Date'].dt.year < 2020]\n",
    "new_eth = eth[eth['Date'].dt.year < 2020]\n",
    "new_nasdaq = nasdaq[nasdaq['Date'].dt.year < 2020]"
   ]
  },
  {
   "cell_type": "code",
   "execution_count": 256,
   "metadata": {},
   "outputs": [
    {
     "data": {
      "image/png": "[encoded data removed]",
      "text/plain": [
       "<Figure size 640x480 with 1 Axes>"
      ]
     },
     "metadata": {},
     "output_type": "display_data"
    }
   ],
   "source": [
    "sns.lineplot(x = new_btc.Date, y = new_btc.High, color = \"red\", label = 'Bitcoin')\n",
    "sns.lineplot(x = new_nasdaq.Date, y = new_nasdaq.High, color = \"blue\", label = 'NASDAQ')\n",
    "plt.title('Bitcoin Highs Vs. NASDAQ Highs (Before 2020)')\n",
    "plt.xlabel('Year')\n",
    "plt.ylabel('USD')\n",
    "plt.legend()\n",
    "plt.show()"
   ]
  },
  {
   "cell_type": "markdown",
   "metadata": {},
   "source": [
    "#### From this graph we can conclude that while some people could have gotten lucky investing early on with Bitcoin, the NASDAQ would be a safer investment. Bitcoin have much more dramatic Highs and Lows while the NASDAQ is mostly a steady increase with some dips along the way. It is also interesting that the highs and lows were not at the same time. I would like to remind the viewer that this data is a few years outdated, however this point remains true."
   ]
  },
  {
   "cell_type": "markdown",
   "metadata": {},
   "source": [
    "### 6A. What are the average highs for each year (Bitcoin and NASDAQ Composite) before 2020?"
   ]
  },
  {
   "cell_type": "code",
   "execution_count": 257,
   "metadata": {},
   "outputs": [
    {
     "data": {
      "text/html": [
       "<div>\n",
       "<style scoped>\n",
       "    .dataframe tbody tr th:only-of-type {\n",
       "        vertical-align: middle;\n",
       "    }\n",
       "\n",
       "    .dataframe tbody tr th {\n",
       "        vertical-align: top;\n",
       "    }\n",
       "\n",
       "    .dataframe thead th {\n",
       "        text-align: right;\n",
       "    }\n",
       "</style>\n",
       "<table border=\"1\" class=\"dataframe\">\n",
       "  <thead>\n",
       "    <tr style=\"text-align: right;\">\n",
       "      <th></th>\n",
       "      <th>Bitcoin High</th>\n",
       "      <th>NASDAQ High</th>\n",
       "    </tr>\n",
       "    <tr>\n",
       "      <th>Date</th>\n",
       "      <th></th>\n",
       "      <th></th>\n",
       "    </tr>\n",
       "  </thead>\n",
       "  <tbody>\n",
       "    <tr>\n",
       "      <th>2014</th>\n",
       "      <td>373.265397</td>\n",
       "      <td>4655.571132</td>\n",
       "    </tr>\n",
       "    <tr>\n",
       "      <th>2015</th>\n",
       "      <td>278.151978</td>\n",
       "      <td>4923.234198</td>\n",
       "    </tr>\n",
       "    <tr>\n",
       "      <th>2016</th>\n",
       "      <td>574.302273</td>\n",
       "      <td>5993.726060</td>\n",
       "    </tr>\n",
       "    <tr>\n",
       "      <th>2017</th>\n",
       "      <td>4144.687445</td>\n",
       "      <td>7541.518658</td>\n",
       "    </tr>\n",
       "    <tr>\n",
       "      <th>2018</th>\n",
       "      <td>7787.978969</td>\n",
       "      <td>9454.552357</td>\n",
       "    </tr>\n",
       "    <tr>\n",
       "      <th>2019</th>\n",
       "      <td>7549.907409</td>\n",
       "      <td>14193.068293</td>\n",
       "    </tr>\n",
       "  </tbody>\n",
       "</table>\n",
       "</div>"
      ],
      "text/plain": [
       "      Bitcoin High   NASDAQ High\n",
       "Date                            \n",
       "2014    373.265397   4655.571132\n",
       "2015    278.151978   4923.234198\n",
       "2016    574.302273   5993.726060\n",
       "2017   4144.687445   7541.518658\n",
       "2018   7787.978969   9454.552357\n",
       "2019   7549.907409  14193.068293"
      ]
     },
     "execution_count": 257,
     "metadata": {},
     "output_type": "execute_result"
    }
   ],
   "source": [
    "new_btc_df = new_btc.groupby(new_btc['Date'].dt.year).mean()\n",
    "new_btc_df = new_btc_df.High\n",
    "new_nasdaq_df = new_nasdaq.groupby(new_btc['Date'].dt.year).mean()\n",
    "new_nasdaq_df = new_nasdaq_df.High\n",
    "new_high_df = pd.merge(new_btc_df, new_nasdaq_df, left_on = \"Date\", right_on = \"Date\")\n",
    "new_high_df.columns =['Bitcoin High', 'NASDAQ High']\n",
    "new_high_df"
   ]
  },
  {
   "cell_type": "markdown",
   "metadata": {},
   "source": [
    "### 6B. What are the average lows for each year (Bitcoin and NASDAQ Composite) before 2020?"
   ]
  },
  {
   "cell_type": "code",
   "execution_count": 258,
   "metadata": {},
   "outputs": [
    {
     "data": {
      "text/html": [
       "<div>\n",
       "<style scoped>\n",
       "    .dataframe tbody tr th:only-of-type {\n",
       "        vertical-align: middle;\n",
       "    }\n",
       "\n",
       "    .dataframe tbody tr th {\n",
       "        vertical-align: top;\n",
       "    }\n",
       "\n",
       "    .dataframe thead th {\n",
       "        text-align: right;\n",
       "    }\n",
       "</style>\n",
       "<table border=\"1\" class=\"dataframe\">\n",
       "  <thead>\n",
       "    <tr style=\"text-align: right;\">\n",
       "      <th></th>\n",
       "      <th>Bitcoin Low</th>\n",
       "      <th>NASDAQ Low</th>\n",
       "    </tr>\n",
       "    <tr>\n",
       "      <th>Date</th>\n",
       "      <th></th>\n",
       "      <th></th>\n",
       "    </tr>\n",
       "  </thead>\n",
       "  <tbody>\n",
       "    <tr>\n",
       "      <th>2014</th>\n",
       "      <td>355.903726</td>\n",
       "      <td>4600.798496</td>\n",
       "    </tr>\n",
       "    <tr>\n",
       "      <th>2015</th>\n",
       "      <td>266.807891</td>\n",
       "      <td>4865.994464</td>\n",
       "    </tr>\n",
       "    <tr>\n",
       "      <th>2016</th>\n",
       "      <td>560.453374</td>\n",
       "      <td>5949.912099</td>\n",
       "    </tr>\n",
       "    <tr>\n",
       "      <th>2017</th>\n",
       "      <td>3811.707792</td>\n",
       "      <td>7441.162632</td>\n",
       "    </tr>\n",
       "    <tr>\n",
       "      <th>2018</th>\n",
       "      <td>7350.747939</td>\n",
       "      <td>9302.553700</td>\n",
       "    </tr>\n",
       "    <tr>\n",
       "      <th>2019</th>\n",
       "      <td>7222.602868</td>\n",
       "      <td>13968.428740</td>\n",
       "    </tr>\n",
       "  </tbody>\n",
       "</table>\n",
       "</div>"
      ],
      "text/plain": [
       "      Bitcoin Low    NASDAQ Low\n",
       "Date                           \n",
       "2014   355.903726   4600.798496\n",
       "2015   266.807891   4865.994464\n",
       "2016   560.453374   5949.912099\n",
       "2017  3811.707792   7441.162632\n",
       "2018  7350.747939   9302.553700\n",
       "2019  7222.602868  13968.428740"
      ]
     },
     "execution_count": 258,
     "metadata": {},
     "output_type": "execute_result"
    }
   ],
   "source": [
    "new_btc_df = new_btc.groupby(new_btc['Date'].dt.year).mean()\n",
    "new_btc_df = new_btc_df.Low\n",
    "new_nasdaq_df = new_nasdaq.groupby(new_btc['Date'].dt.year).mean()\n",
    "new_nasdaq_df = new_nasdaq_df.Low\n",
    "new_low_df = pd.merge(new_btc_df, new_nasdaq_df, left_on = \"Date\", right_on = \"Date\")\n",
    "new_low_df.columns =['Bitcoin Low', 'NASDAQ Low']\n",
    "new_low_df"
   ]
  },
  {
   "cell_type": "markdown",
   "metadata": {},
   "source": [
    "### 6C. Combined Chart of A and B."
   ]
  },
  {
   "cell_type": "code",
   "execution_count": 259,
   "metadata": {},
   "outputs": [
    {
     "data": {
      "text/html": [
       "<div>\n",
       "<style scoped>\n",
       "    .dataframe tbody tr th:only-of-type {\n",
       "        vertical-align: middle;\n",
       "    }\n",
       "\n",
       "    .dataframe tbody tr th {\n",
       "        vertical-align: top;\n",
       "    }\n",
       "\n",
       "    .dataframe thead th {\n",
       "        text-align: right;\n",
       "    }\n",
       "</style>\n",
       "<table border=\"1\" class=\"dataframe\">\n",
       "  <thead>\n",
       "    <tr style=\"text-align: right;\">\n",
       "      <th></th>\n",
       "      <th>Bitcoin High</th>\n",
       "      <th>NASDAQ High</th>\n",
       "      <th>Bitcoin Low</th>\n",
       "      <th>NASDAQ Low</th>\n",
       "    </tr>\n",
       "    <tr>\n",
       "      <th>Date</th>\n",
       "      <th></th>\n",
       "      <th></th>\n",
       "      <th></th>\n",
       "      <th></th>\n",
       "    </tr>\n",
       "  </thead>\n",
       "  <tbody>\n",
       "    <tr>\n",
       "      <th>2014</th>\n",
       "      <td>373.265397</td>\n",
       "      <td>4655.571132</td>\n",
       "      <td>355.903726</td>\n",
       "      <td>4600.798496</td>\n",
       "    </tr>\n",
       "    <tr>\n",
       "      <th>2015</th>\n",
       "      <td>278.151978</td>\n",
       "      <td>4923.234198</td>\n",
       "      <td>266.807891</td>\n",
       "      <td>4865.994464</td>\n",
       "    </tr>\n",
       "    <tr>\n",
       "      <th>2016</th>\n",
       "      <td>574.302273</td>\n",
       "      <td>5993.726060</td>\n",
       "      <td>560.453374</td>\n",
       "      <td>5949.912099</td>\n",
       "    </tr>\n",
       "    <tr>\n",
       "      <th>2017</th>\n",
       "      <td>4144.687445</td>\n",
       "      <td>7541.518658</td>\n",
       "      <td>3811.707792</td>\n",
       "      <td>7441.162632</td>\n",
       "    </tr>\n",
       "    <tr>\n",
       "      <th>2018</th>\n",
       "      <td>7787.978969</td>\n",
       "      <td>9454.552357</td>\n",
       "      <td>7350.747939</td>\n",
       "      <td>9302.553700</td>\n",
       "    </tr>\n",
       "    <tr>\n",
       "      <th>2019</th>\n",
       "      <td>7549.907409</td>\n",
       "      <td>14193.068293</td>\n",
       "      <td>7222.602868</td>\n",
       "      <td>13968.428740</td>\n",
       "    </tr>\n",
       "  </tbody>\n",
       "</table>\n",
       "</div>"
      ],
      "text/plain": [
       "      Bitcoin High   NASDAQ High  Bitcoin Low    NASDAQ Low\n",
       "Date                                                       \n",
       "2014    373.265397   4655.571132   355.903726   4600.798496\n",
       "2015    278.151978   4923.234198   266.807891   4865.994464\n",
       "2016    574.302273   5993.726060   560.453374   5949.912099\n",
       "2017   4144.687445   7541.518658  3811.707792   7441.162632\n",
       "2018   7787.978969   9454.552357  7350.747939   9302.553700\n",
       "2019   7549.907409  14193.068293  7222.602868  13968.428740"
      ]
     },
     "execution_count": 259,
     "metadata": {},
     "output_type": "execute_result"
    }
   ],
   "source": [
    "new_combined_df = pd.merge(new_high_df, new_low_df, left_on = \"Date\", right_on = \"Date\")\n",
    "new_combined_df"
   ]
  },
  {
   "cell_type": "markdown",
   "metadata": {},
   "source": [
    "#### Using these charts we can check to see both the Best and the Worst of Bitcoin and the NASDAQ Composite. This should give us a good representation of how each year went for both Bitcoin and NASDAQ."
   ]
  },
  {
   "cell_type": "markdown",
   "metadata": {},
   "source": [
    "### 7A. What are the average highs for each year (Bitcoin and Ethereum) before 2020?"
   ]
  },
  {
   "cell_type": "markdown",
   "metadata": {},
   "source": [
    "##### Please Note: These charts will be smaller because I will only include years Ethereum existed"
   ]
  },
  {
   "cell_type": "code",
   "execution_count": 260,
   "metadata": {},
   "outputs": [
    {
     "data": {
      "text/html": [
       "<div>\n",
       "<style scoped>\n",
       "    .dataframe tbody tr th:only-of-type {\n",
       "        vertical-align: middle;\n",
       "    }\n",
       "\n",
       "    .dataframe tbody tr th {\n",
       "        vertical-align: top;\n",
       "    }\n",
       "\n",
       "    .dataframe thead th {\n",
       "        text-align: right;\n",
       "    }\n",
       "</style>\n",
       "<table border=\"1\" class=\"dataframe\">\n",
       "  <thead>\n",
       "    <tr style=\"text-align: right;\">\n",
       "      <th></th>\n",
       "      <th>Bitcoin High</th>\n",
       "      <th>Ethereum High</th>\n",
       "    </tr>\n",
       "    <tr>\n",
       "      <th>Date</th>\n",
       "      <th></th>\n",
       "      <th></th>\n",
       "    </tr>\n",
       "  </thead>\n",
       "  <tbody>\n",
       "    <tr>\n",
       "      <th>2017</th>\n",
       "      <td>4144.687445</td>\n",
       "      <td>553.458339</td>\n",
       "    </tr>\n",
       "    <tr>\n",
       "      <th>2018</th>\n",
       "      <td>7787.978969</td>\n",
       "      <td>502.704094</td>\n",
       "    </tr>\n",
       "    <tr>\n",
       "      <th>2019</th>\n",
       "      <td>7549.907409</td>\n",
       "      <td>186.367671</td>\n",
       "    </tr>\n",
       "  </tbody>\n",
       "</table>\n",
       "</div>"
      ],
      "text/plain": [
       "      Bitcoin High  Ethereum High\n",
       "Date                             \n",
       "2017   4144.687445     553.458339\n",
       "2018   7787.978969     502.704094\n",
       "2019   7549.907409     186.367671"
      ]
     },
     "execution_count": 260,
     "metadata": {},
     "output_type": "execute_result"
    }
   ],
   "source": [
    "new_btc_df = new_btc.groupby(new_btc['Date'].dt.year).mean()\n",
    "new_btc_df = new_btc_df.High\n",
    "new_eth_df = new_eth.groupby(new_eth['Date'].dt.year).mean()\n",
    "new_eth_df = new_eth_df.High\n",
    "new_high_df = pd.merge(new_btc_df, new_eth_df, left_on = \"Date\", right_on = \"Date\")\n",
    "new_high_df.columns =['Bitcoin High', 'Ethereum High']\n",
    "new_high_df"
   ]
  },
  {
   "cell_type": "markdown",
   "metadata": {},
   "source": [
    "### 7B. What are the average lows for each year (Bitcoin and Ethereum) before 2020?"
   ]
  },
  {
   "cell_type": "code",
   "execution_count": 261,
   "metadata": {},
   "outputs": [
    {
     "data": {
      "text/html": [
       "<div>\n",
       "<style scoped>\n",
       "    .dataframe tbody tr th:only-of-type {\n",
       "        vertical-align: middle;\n",
       "    }\n",
       "\n",
       "    .dataframe tbody tr th {\n",
       "        vertical-align: top;\n",
       "    }\n",
       "\n",
       "    .dataframe thead th {\n",
       "        text-align: right;\n",
       "    }\n",
       "</style>\n",
       "<table border=\"1\" class=\"dataframe\">\n",
       "  <thead>\n",
       "    <tr style=\"text-align: right;\">\n",
       "      <th></th>\n",
       "      <th>Bitcoin Low</th>\n",
       "      <th>Ethereum Low</th>\n",
       "    </tr>\n",
       "    <tr>\n",
       "      <th>Date</th>\n",
       "      <th></th>\n",
       "      <th></th>\n",
       "    </tr>\n",
       "  </thead>\n",
       "  <tbody>\n",
       "    <tr>\n",
       "      <th>2017</th>\n",
       "      <td>3811.707792</td>\n",
       "      <td>499.496172</td>\n",
       "    </tr>\n",
       "    <tr>\n",
       "      <th>2018</th>\n",
       "      <td>7350.747939</td>\n",
       "      <td>463.143234</td>\n",
       "    </tr>\n",
       "    <tr>\n",
       "      <th>2019</th>\n",
       "      <td>7222.602868</td>\n",
       "      <td>176.947580</td>\n",
       "    </tr>\n",
       "  </tbody>\n",
       "</table>\n",
       "</div>"
      ],
      "text/plain": [
       "      Bitcoin Low  Ethereum Low\n",
       "Date                           \n",
       "2017  3811.707792    499.496172\n",
       "2018  7350.747939    463.143234\n",
       "2019  7222.602868    176.947580"
      ]
     },
     "execution_count": 261,
     "metadata": {},
     "output_type": "execute_result"
    }
   ],
   "source": [
    "new_btc_df = new_btc.groupby(new_btc['Date'].dt.year).mean()\n",
    "new_btc_df = new_btc_df.Low\n",
    "new_eth_df = new_eth.groupby(new_eth['Date'].dt.year).mean()\n",
    "new_eth_df = new_eth_df.Low\n",
    "new_low_df = pd.merge(new_btc_df, new_eth_df, left_on = \"Date\", right_on = \"Date\")\n",
    "new_low_df.columns =['Bitcoin Low', 'Ethereum Low']\n",
    "new_low_df"
   ]
  },
  {
   "cell_type": "markdown",
   "metadata": {},
   "source": [
    "### 7C. Combined Chart of A and B."
   ]
  },
  {
   "cell_type": "code",
   "execution_count": 262,
   "metadata": {},
   "outputs": [
    {
     "data": {
      "text/html": [
       "<div>\n",
       "<style scoped>\n",
       "    .dataframe tbody tr th:only-of-type {\n",
       "        vertical-align: middle;\n",
       "    }\n",
       "\n",
       "    .dataframe tbody tr th {\n",
       "        vertical-align: top;\n",
       "    }\n",
       "\n",
       "    .dataframe thead th {\n",
       "        text-align: right;\n",
       "    }\n",
       "</style>\n",
       "<table border=\"1\" class=\"dataframe\">\n",
       "  <thead>\n",
       "    <tr style=\"text-align: right;\">\n",
       "      <th></th>\n",
       "      <th>Bitcoin High</th>\n",
       "      <th>Ethereum High</th>\n",
       "      <th>Bitcoin Low</th>\n",
       "      <th>Ethereum Low</th>\n",
       "    </tr>\n",
       "    <tr>\n",
       "      <th>Date</th>\n",
       "      <th></th>\n",
       "      <th></th>\n",
       "      <th></th>\n",
       "      <th></th>\n",
       "    </tr>\n",
       "  </thead>\n",
       "  <tbody>\n",
       "    <tr>\n",
       "      <th>2017</th>\n",
       "      <td>4144.687445</td>\n",
       "      <td>553.458339</td>\n",
       "      <td>3811.707792</td>\n",
       "      <td>499.496172</td>\n",
       "    </tr>\n",
       "    <tr>\n",
       "      <th>2018</th>\n",
       "      <td>7787.978969</td>\n",
       "      <td>502.704094</td>\n",
       "      <td>7350.747939</td>\n",
       "      <td>463.143234</td>\n",
       "    </tr>\n",
       "    <tr>\n",
       "      <th>2019</th>\n",
       "      <td>7549.907409</td>\n",
       "      <td>186.367671</td>\n",
       "      <td>7222.602868</td>\n",
       "      <td>176.947580</td>\n",
       "    </tr>\n",
       "  </tbody>\n",
       "</table>\n",
       "</div>"
      ],
      "text/plain": [
       "      Bitcoin High  Ethereum High  Bitcoin Low  Ethereum Low\n",
       "Date                                                        \n",
       "2017   4144.687445     553.458339  3811.707792    499.496172\n",
       "2018   7787.978969     502.704094  7350.747939    463.143234\n",
       "2019   7549.907409     186.367671  7222.602868    176.947580"
      ]
     },
     "execution_count": 262,
     "metadata": {},
     "output_type": "execute_result"
    }
   ],
   "source": [
    "new_combined_df = pd.merge(new_high_df, new_low_df, left_on = \"Date\", right_on = \"Date\")\n",
    "new_combined_df"
   ]
  },
  {
   "cell_type": "markdown",
   "metadata": {},
   "source": [
    "##### Simalarly to section 6, this information should help us compare the overall preformance of Bitcoin compared to Ethereum."
   ]
  },
  {
   "cell_type": "markdown",
   "metadata": {},
   "source": [
    "### 8A. What was the highest value Bitcoin Hit after 2020? What was the lowest? What was the difference between the highest and the lowest values?"
   ]
  },
  {
   "cell_type": "code",
   "execution_count": 263,
   "metadata": {},
   "outputs": [
    {
     "name": "stdout",
     "output_type": "stream",
     "text": [
      "Max: $68789.625 Min: $15682.692383 Difference: $53106.932617\n"
     ]
    }
   ],
   "source": [
    "new_btc = btc[btc['Date'].dt.year > 2020]\n",
    "max_btc = new_btc.High.max()\n",
    "min_btc = new_btc.Low.min()\n",
    "difference = max_btc - min_btc\n",
    "print(f'Max: ${max_btc} Min: ${min_btc} Difference: ${difference}')"
   ]
  },
  {
   "cell_type": "markdown",
   "metadata": {},
   "source": [
    "### 8B. What was the highest value Bitcoin Hit before 2020? What was the lowest? What was the difference between the highest and the lowest values?"
   ]
  },
  {
   "cell_type": "code",
   "execution_count": 264,
   "metadata": {},
   "outputs": [
    {
     "name": "stdout",
     "output_type": "stream",
     "text": [
      "Max: $20089.0 Min: $171.509995 Difference: $19917.490005\n"
     ]
    }
   ],
   "source": [
    "new_btc = btc[btc['Date'].dt.year < 2020]\n",
    "max_btc = new_btc.High.max()\n",
    "min_btc = new_btc.Low.min()\n",
    "difference = max_btc - min_btc\n",
    "print(f'Max: ${max_btc} Min: ${min_btc} Difference: ${difference}')"
   ]
  },
  {
   "cell_type": "markdown",
   "metadata": {},
   "source": [
    "#### This question is important because it helps show just how much Bitcoin's value changes, because there is such a huge difference in the Max and Min it may make some investors hesitant. This could also mean that there is a higher potential for profit, but also losses. I wanted to see the values for after 2020 because it would be more recent, but I also chose to see the values before 2020 to compare to the NASDAQ."
   ]
  },
  {
   "cell_type": "markdown",
   "metadata": {},
   "source": [
    "### 9. What was the highest value NASDAQ Hit after 2020? What was the lowest? What was the difference between the highest and the lowest values?"
   ]
  },
  {
   "cell_type": "code",
   "execution_count": 265,
   "metadata": {},
   "outputs": [
    {
     "name": "stdout",
     "output_type": "stream",
     "text": [
      "Max: $16212.230469 Min: $4116.600098 Difference: $12095.630371\n"
     ]
    }
   ],
   "source": [
    "new_nasdaq = nasdaq[nasdaq['Date'].dt.year < 2020]\n",
    "max_nasdaq = new_nasdaq.High.max()\n",
    "min_nasdaq = new_nasdaq.Low.min()\n",
    "difference = max_nasdaq - min_nasdaq\n",
    "print(f'Max: ${max_nasdaq} Min: ${min_nasdaq} Difference: ${difference}')"
   ]
  },
  {
   "cell_type": "markdown",
   "metadata": {},
   "source": [
    "#### NASDAQ's difference is still a lot, however it is still thousands of dollars less than what Bitcoin's difference making it arguably a safer investment. Keep in mind that I have taken the difference from the best and worst days from each to make an extreme point."
   ]
  },
  {
   "cell_type": "markdown",
   "metadata": {},
   "source": [
    "### 10. How did covid affect the average prices of Bitcoin? (2019 compared to 2020)"
   ]
  },
  {
   "cell_type": "code",
   "execution_count": 266,
   "metadata": {},
   "outputs": [
    {
     "name": "stdout",
     "output_type": "stream",
     "text": [
      "In 2020 the average high was $11304.359034857922 and the average low was $10844.595162852458.\n"
     ]
    }
   ],
   "source": [
    "new_btc = btc[btc.Date.dt.year == 2020]\n",
    "h = new_btc.High.mean()\n",
    "l = new_btc.Low.mean()\n",
    "print(f'In 2020 the average high was ${h} and the average low was ${l}.')"
   ]
  },
  {
   "cell_type": "code",
   "execution_count": 267,
   "metadata": {},
   "outputs": [
    {
     "name": "stdout",
     "output_type": "stream",
     "text": [
      "In 2019 the average high was $7549.907409200001 and the average low was $7222.60286750411.\n"
     ]
    }
   ],
   "source": [
    "old_btc = btc[btc.Date.dt.year == 2019]\n",
    "h = old_btc.High.mean()\n",
    "l = old_btc.Low.mean()\n",
    "print(f'In 2019 the average high was ${h} and the average low was ${l}.')"
   ]
  },
  {
   "cell_type": "code",
   "execution_count": 268,
   "metadata": {},
   "outputs": [
    {
     "data": {
      "image/png": "[encoded data removed]",
      "text/plain": [
       "<Figure size 640x480 with 1 Axes>"
      ]
     },
     "metadata": {},
     "output_type": "display_data"
    }
   ],
   "source": [
    "sns.lineplot(x = new_btc.Date.dt.month, y = new_btc.High, color = \"red\", label = '2020', errorbar=None)\n",
    "sns.lineplot(x = old_btc.Date.dt.month, y = old_btc.High, color = \"blue\", label = '2019', errorbar=None)\n",
    "plt.title('Bitcoin 2020 Highs vs 2019 Highs By Month')\n",
    "plt.xlabel('Month')\n",
    "plt.ylabel('USD')\n",
    "plt.legend()\n",
    "plt.show()"
   ]
  },
  {
   "cell_type": "markdown",
   "metadata": {},
   "source": [
    "##### Based on this data Bitcoin did increase in 2020 from 2019 potentially due to Covid, however the odds are that Bitcoin would have grown in popularity regardless."
   ]
  },
  {
   "cell_type": "markdown",
   "metadata": {},
   "source": [
    "### 11. How did covid affect the average prices of the Ethereum? (2019 compared to 2020)"
   ]
  },
  {
   "cell_type": "code",
   "execution_count": 269,
   "metadata": {},
   "outputs": [
    {
     "name": "stdout",
     "output_type": "stream",
     "text": [
      "In 2020 the average high was $315.0101208169399 and the average low was $297.2214699918033.\n"
     ]
    }
   ],
   "source": [
    "new_eth = eth[eth.Date.dt.year == 2020]\n",
    "h = new_eth.High.mean()\n",
    "l = new_eth.Low.mean()\n",
    "print(f'In 2020 the average high was ${h} and the average low was ${l}.')"
   ]
  },
  {
   "cell_type": "code",
   "execution_count": 270,
   "metadata": {},
   "outputs": [
    {
     "name": "stdout",
     "output_type": "stream",
     "text": [
      "In 2019 the average high was $186.36767087123286 and the average low was $176.94758030684932.\n"
     ]
    }
   ],
   "source": [
    "old_eth = eth[eth.Date.dt.year == 2019]\n",
    "h = old_eth.High.mean()\n",
    "l = old_eth.Low.mean()\n",
    "print(f'In 2019 the average high was ${h} and the average low was ${l}.')"
   ]
  },
  {
   "cell_type": "code",
   "execution_count": 271,
   "metadata": {},
   "outputs": [
    {
     "data": {
      "image/png": "[encoded data removed]",
      "text/plain": [
       "<Figure size 640x480 with 1 Axes>"
      ]
     },
     "metadata": {},
     "output_type": "display_data"
    }
   ],
   "source": [
    "sns.lineplot(x = new_eth.Date.dt.month, y = new_eth.High, color = \"red\", label = '2020', errorbar=None)\n",
    "sns.lineplot(x = old_eth.Date.dt.month, y = old_eth.High, color = \"blue\", label = '2019', errorbar=None)\n",
    "plt.title('ETH 2020 Highs vs 2019 Highs By Month')\n",
    "plt.xlabel('Month')\n",
    "plt.ylabel('USD')\n",
    "plt.legend()\n",
    "plt.show()"
   ]
  },
  {
   "cell_type": "markdown",
   "metadata": {},
   "source": [
    "#### Similarly to Bitcoin, Ethereum also experienced growth in 2020 compared to 2019."
   ]
  },
  {
   "cell_type": "markdown",
   "metadata": {},
   "source": [
    "### 12. What is the highest price and lowest price in the Bitcoin dataset?"
   ]
  },
  {
   "cell_type": "markdown",
   "metadata": {},
   "source": [
    "##### Please Note: At one time Bitcoin sold for less than the lowest price on this df because it was created before 2014."
   ]
  },
  {
   "cell_type": "code",
   "execution_count": 272,
   "metadata": {},
   "outputs": [
    {
     "name": "stdout",
     "output_type": "stream",
     "text": [
      "High: $68789.625 Low: $171.509995\n"
     ]
    }
   ],
   "source": [
    "h = btc.High.max()\n",
    "l = btc.Low.min()\n",
    "print(f'High: ${h} Low: ${l}')"
   ]
  },
  {
   "cell_type": "markdown",
   "metadata": {},
   "source": [
    "### 13. What is the highest price and lowest price in the Ethereum dataset?"
   ]
  },
  {
   "cell_type": "code",
   "execution_count": 273,
   "metadata": {},
   "outputs": [
    {
     "name": "stdout",
     "output_type": "stream",
     "text": [
      "High: $4891.70459 Low: $82.829887\n"
     ]
    }
   ],
   "source": [
    "h = eth.High.max()\n",
    "l = eth.Low.min()\n",
    "print(f'High: ${h} Low: ${l}')\n"
   ]
  },
  {
   "cell_type": "markdown",
   "metadata": {},
   "source": [
    "##### Even though my project is on Bitcoin, I wanted to show the highest and lowest for the Ethereum dataset since it is the second biggest cryptocurrency to give a reference for Bitcoin. Clearly Ethereum is much less expensive than Bitcoin, however it has still seen widespread growth since its creation."
   ]
  },
  {
   "cell_type": "markdown",
   "metadata": {},
   "source": [
    "#### Concluding Thoughts"
   ]
  },
  {
   "cell_type": "markdown",
   "metadata": {},
   "source": [
    "##### Given all the data analysis from above, I have concluded that while there is clearly room to make money with Bitcoin, it is also very easy to lose money. Comparing it to the NASDAQ has shown me that compared to the stock market, Bitcoin and Ethereum are both very volitile and much riskier"
   ]
  }
 ],
 "metadata": {
  "kernelspec": {
   "display_name": "Python 3.10.2 64-bit",
   "language": "python",
   "name": "python3"
  },
  "language_info": {
   "codemirror_mode": {
    "name": "ipython",
    "version": 3
   },
   "file_extension": ".py",
   "mimetype": "text/x-python",
   "name": "python",
   "nbconvert_exporter": "python",
   "pygments_lexer": "ipython3",
   "version": "3.10.2"
  },
  "orig_nbformat": 4,
  "vscode": {
   "interpreter": {
    "hash": "13ae089aa4d0633bf49396468b365185b3dc110cd174675a4f0196b4312fc571"
   }
  }
 },
 "nbformat": 4,
 "nbformat_minor": 2
}
